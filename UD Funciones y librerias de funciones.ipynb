{
  "cells": [
    {
      "metadata": {},
      "cell_type": "markdown",
      "source": "<h1 style=\"text-align: center\">Funciones y librerías de funciones</h1>"
    },
    {
      "metadata": {},
      "cell_type": "markdown",
      "source": "<p><b>Autor:</b> Pablo Cerrillo Ruiz. <br/> <b>Última modificación:</b> 26 de junio de 2019.</p> "
    },
    {
      "metadata": {},
      "cell_type": "markdown",
      "source": "<center><a rel=\"license\" href=\"http://creativecommons.org/licenses/by-sa/4.0/\"><img alt=\"Licencia de Creative Commons\" style=\"border-width:0\" src=\"https://i.creativecommons.org/l/by-sa/4.0/88x31.png\" /></a><br />Esta obra está bajo una <a rel=\"license\" href=\"http://creativecommons.org/licenses/by-sa/4.0/\">licencia de Creative Commons Reconocimiento-CompartirIgual 4.0 Internacional</a></center>.\n"
    },
    {
      "metadata": {},
      "cell_type": "markdown",
      "source": "<h1>Índice</h1>"
    },
    {
      "metadata": {},
      "cell_type": "markdown",
      "source": "* [0. ¿Qué es y cómo funciona Jupyter Notebooks?](#seccion_0)\n* [1. Introducción.](#seccion_1)\n* [2. Definición de funciones.](#seccion_2)\n * [2.1 Valor por defecto de los argumentos.](#seccion_2_1)\n * [2.2 Indicando el valor del argumento mediante su nombre.](#seccion_2_1)\n* [3. Librerías de funciones.](#seccion_3)\n * [3.1 El módulo Math.](#seccion_3_1)\n* [4. ¿Qué hemos aprendido?](#seccion_4)\n* [5. Relación de ejercicios.](#seccion_5)"
    },
    {
      "metadata": {},
      "cell_type": "markdown",
      "source": "<a id=\"seccion_0\" name=\"seccion_0\"></a>\n<h1>0. ¿Qué es y cómo funciona Jupyter Notebooks?</h1>"
    },
    {
      "metadata": {},
      "cell_type": "markdown",
      "source": "<p style=\"text-align: justify\">Jupyter Notebook es un entorno de trabajo interactivo que permite desarrollar código de manera dinámica. Ahora mismo nos encontramos en el cuaderno UD Estructuras de datos, cuya finalidad es enseñar al alumno las diferentes estructuras de datos en Python y la utilidad que éstas tienen en el mundo de la programación.</p>"
    },
    {
      "metadata": {},
      "cell_type": "markdown",
      "source": "<img src=\"./images/menu_superior_jupyter_notebook.png\"></img>"
    },
    {
      "metadata": {},
      "cell_type": "markdown",
      "source": "<p style=\"text-align: justify\">Recuerde que para ejecutar el contenido de una celda basta con pulsar el botón <b><i>Run</i></b> del panel de control. También puede pulsar al mismo tiempo las teclas <i>Mayúsculas+Enter</p>"
    },
    {
      "metadata": {},
      "cell_type": "markdown",
      "source": "<a id=\"seccion_1\" name=\"seccion_1\"></a>\n<h1>1. Introducción.</h1>"
    },
    {
      "metadata": {},
      "cell_type": "markdown",
      "source": "<p style=\"text-align: justify\">La repetición de código es uno de los mayores problemas que se encuentran en el mundo de la programación. Uno de los problemas que surge cuando repetimos el mismo código en diferentes partes de nuestro programa es cuando tenemos que realizar una actualización de dicho código. En primer lugar, dicho código deberá ser cambiado en todo el programa; y segundo, que al aparecer en más de un sitio, es posible que el programador cometa el error de no actualizarlo en alguna parte del código. Por ejemplo, imagine que tenemos el siguiente código que calcula el máximo de tres números y a continuación, calculará el maximo de otros tres números diferentes: </p>\n"
    },
    {
      "metadata": {
        "trusted": true
      },
      "cell_type": "code",
      "source": "\na = 5\nb = 2\nc = 1\n\nif a >= b:\n    if a >= c:\n        print(a)\n    else:\n        print(c)\nelse:\n    if b >= c:\n        print(b)\n    else:\n        print(c)\n\na = 4\nb = 4\nc = 8\n\nif a >= b:\n    if a >= c:\n        print(a)\n    else:\n        print(c)\nelse:\n    if b >= c:\n        print(b)\n    else:\n        print(c)",
      "execution_count": null,
      "outputs": []
    },
    {
      "metadata": {},
      "cell_type": "markdown",
      "source": "<p style=\"text-align: justify\">Como podemos observar, si realizamos un cambio en el cálculo del máximo, deberiamos realizar dos cambios. Realizar eso en una aplicación de varios ficheros sería inviable. <b>Python proporciona mecanismos para poder reutilizar varias veces nuestro código definiendolo una sola vez.</b> Dicho mecanismo se basa en la creación de <b>funciones.</b> Crear funciones permite a programador reutilizar código y eliminar todo el código redundante de nuestra aplicación. Vamos a resolver ahora el problema anterior creando una función.</p>"
    },
    {
      "metadata": {},
      "cell_type": "markdown",
      "source": "<p style=\"text-align: justify\"> Vamos a resolver ahora el problema anterior creando una función.</p>"
    },
    {
      "metadata": {
        "trusted": true
      },
      "cell_type": "code",
      "source": "def max(a,b,c):\n    if a >= b:\n        if a >= c:\n            print(a)\n        else:\n            print(c)\n    else:\n        if b >= c:\n            print(b)\n        else:\n            print(c)\n\nmax(5,2,1)\nmax(4,4,8)\n",
      "execution_count": null,
      "outputs": []
    },
    {
      "metadata": {},
      "cell_type": "markdown",
      "source": "<p style=\"text-align: justify\">Como podemos observar, mediante la creación de funciones podemos reutilizar nuestro código de forma sencilla. <b>El uso de funciones hace que nuestro programa sea más compacto</b>, debido a al ahorro de líneas que supone su uso; <b>legible</b>, facilita la lectura del código y <b>robusto<b>, minimizamos la probabilidad de fallos.</p>"
    },
    {
      "metadata": {},
      "cell_type": "markdown",
      "source": "<a id=\"seccion_2\" name=\"seccion_2\"></a>\n<h1>2. Definición de funciones.</h1>"
    },
    {
      "metadata": {},
      "cell_type": "markdown",
      "source": "<p style=\"text-align: justify\">Una vez introducido el concepto de función, vamos a definir formalmente que es una función y como se define en Python una. <b>Una función es un bloque de código al que le proporcionamos un nombre</b>. Dicha función puede recibir de entrada cero o más parámetros denominados <b>argumentos</b> y opcionalmente puede devolver un valor si lo necesitase. En la imagen siguiente podemos ver la sintaxis en Python para crear funciones: </p>\n\n"
    },
    {
      "metadata": {},
      "cell_type": "markdown",
      "source": "<img src=\"./images/ud_funciones/sintaxis_funciones.png\"></img>"
    },
    {
      "metadata": {},
      "cell_type": "markdown",
      "source": "<p style=\"text-align:justify\"> Donde: </p>\n<ul>\n    <li style=\"margin-top: 0.5em; text-align:justify;\"><b>def</b>: palabra reservada que indica el comienzo de la declaración de una función.</li>\n    <li style=\"margin-top: 0.5em; text-align:justify;\"><b>nombre_función</b>: nombre que le proporcionamos a la función que vamos a crear. Generalmente le proporcionamos un nombre que caracterice la finalidad de la función.</li>\n    <li style=\"margin-top: 0.5em; text-align:justify;\"><b>(arg1, arg2, ..., argN)</b>: lista de parámetros que le pasamos como argumento a la función que vamos a crear. Los argumentos son opcionales y en caso de que la función no necesite argumentos, no se indicará entre los paréntesis nada.</li>\n    <li style=\"margin-top: 0.5em; text-align:justify;\"><b>bloque_código</b>: conjunto de sentencias que se ejecutan dentro de la función.</li>\n    <li style=\"margin-top: 0.5em; text-align:justify;\"><b>return valor</b>: sentencia opcional que permite devolver un valor o conjunto de valores. Return es una palabra reservada y en cuanto se ejecuté dicha sentencia, terminará la ejecución de la función.</li>\n</ul>"
    },
    {
      "metadata": {},
      "cell_type": "markdown",
      "source": "<p style=\"text-align: justify\">Llegados a este punto, vamos a realizar paso a paso la creación de una función que nos convierta una cantidad de euros en libras para nuestro próximo viaje de estudios.</p>\n\n\n"
    },
    {
      "metadata": {},
      "cell_type": "markdown",
      "source": "<img src=\"./images/ud_funciones/euro_to_pound.png\"></img>"
    },
    {
      "metadata": {},
      "cell_type": "markdown",
      "source": "<p>Para ello, vamos a seguir una serie de pasos: </p>\n\n<ol>\n    <li>Pensar en un <strong>nombre para la función</strong>. Se aconseja dar un nombre que refleje la finalidad de la función.</li>\n    <li>Dar <strong>diferentes ejemplos</strong> de llamada a la función y lo que nos debería devolver.</li>\n    <li>Escribir la cabecera de la función utilizando la sentencia <b>def</b>, escribiendo en un comentario los argumentos de entrada junto su tipo de dato y el tipo de dato de la salida de la función.</li>\n    <li>Escribir una <b>definición de lo que realiza nuestra función</b>.</li>\n    <li>Escribir el <strong>código</strong> que contendrá el cuerpo de la función.</li>\n    <li>Realizar diferentes <strong>pruebas</strong> de nuestra función.</li>\n</ol>"
    },
    {
      "metadata": {},
      "cell_type": "markdown",
      "source": "<p><b>Paso 1</b>: Pensar en un nombre para la función.</p>"
    },
    {
      "metadata": {},
      "cell_type": "markdown",
      "source": "<p>A continuación se proponen diferentes nombres para nuestra función y escogeremos el que mejor refleje la finalidad de nuestra función:</p>\n<ol>\n    <li>Conversor.</li>\n    <li>Conversor_euros_libras.</li>\n    <li>Conversor_de_euros_a_libras.</li>\n    <li>Trasformar_euros_a_libras.</li>\n</ol>\n<p>Vamos a escoger la opción número 3: <b>Conversor_de_euros_a_libras</b> </p>\n"
    },
    {
      "metadata": {},
      "cell_type": "markdown",
      "source": "<p><b>Paso 2</b>: Dar diferentes ejemplos de llamada a la función y lo que nos debería devolver.</p>"
    },
    {
      "metadata": {},
      "cell_type": "markdown",
      "source": "<p>Aunque la función no este definida, vamos a dar ejemplos de llamada a la función <b>Conversor_de_euros_a_libras</b> para ver como funcionaría. </p>\n<pre>\n&gt;&gt;&gt; Conversor_de_euros_a_libras(1)\n0.86\n&gt;&gt;&gt; Conversor_de_euros_a_libras(10)\n8.6\n&gt;&gt;&gt; Conversor_de_euros_a_libras(100)\n86"
    },
    {
      "metadata": {},
      "cell_type": "markdown",
      "source": "<p style=\"text-align: justify\">Como podemos observar, nuestra función va a necesitar como parámetro de entrada un valor númerico, el cuál representará la cantidad de euros, y devolverá un valor que representará el número de libras.</p>"
    },
    {
      "metadata": {},
      "cell_type": "markdown",
      "source": "<p><b>Paso 3</b>: Escribir la cabecera de la función utilizando la sentencia def.</p>"
    },
    {
      "metadata": {},
      "cell_type": "markdown",
      "source": "<p style=\"text-align: justify\">Una vez seleccionado el nombre de la función y conocido el número de argumentos de la función, nos disponemos de definirla. Para ello, escribiremos la cabecera mediante la sentencia def. Además, añadiremos un comentario acerca de los tipos de datos de entrada y los tipos de datos de salida. Al igual que hicimos con el nombre de la función, <b>debemos escoger un nombre para los argumentos de manera que su nombre especifique lo que representa</b>.</p>"
    },
    {
      "metadata": {
        "trusted": true
      },
      "cell_type": "code",
      "source": "def Conversor_de_euros_a_libras(euros):\n    '''\n        euros(number) -> number   Indicamos que euros es un número y la salida de la función es otro número.\n        \n        >>> Conversor_de_euros_a_libras(1)\n        0.86\n        >>> Conversor_de_euros_a_libras(10)\n        8.6\n        >>> Conversor_de_euros_a_libras(100)\n        86\n    '''",
      "execution_count": null,
      "outputs": []
    },
    {
      "metadata": {},
      "cell_type": "markdown",
      "source": "<p><b>Paso 4</b>: Escribir una definición de lo que realiza nuestra función.</p>"
    },
    {
      "metadata": {},
      "cell_type": "markdown",
      "source": "<p style=\"text-align: justify\">Realizamos un pequeño comentario sobre la funcionalidad de la función.</p>"
    },
    {
      "metadata": {
        "trusted": true
      },
      "cell_type": "code",
      "source": "def Conversor_de_euros_a_libras(euros):\n    '''\n        euros(number) -> number   Indicamos que euros es un número y la salida de la función es otro número.\n        \n        Convierte una cantidad de euros en libras.\n        \n        >>> Conversor_de_euros_a_libras(1)\n        0.86\n        >>> Conversor_de_euros_a_libras(10)\n        8.6\n        >>> Conversor_de_euros_a_libras(100)\n        86\n    '''",
      "execution_count": null,
      "outputs": []
    },
    {
      "metadata": {},
      "cell_type": "markdown",
      "source": "<p><b>Paso 5</b>: Escribir el código que contendrá el cuerpo de la función.</p>"
    },
    {
      "metadata": {},
      "cell_type": "markdown",
      "source": "<p style=\"text-align: justify\">Dado que un euro son 0.86 libras, lo que hacemos es multiplicar nuestra cantidad de euros por 0.86 y lo devolvemos mediante la sentencia return.</p>"
    },
    {
      "metadata": {
        "trusted": true
      },
      "cell_type": "code",
      "source": "def Conversor_de_euros_a_libras(euros):\n    '''\n        euros(number) -> number   Indicamos que euros es un número y la salida de la función es otro número.\n        \n        Convierte una cantidad de euros en libras.\n        \n        >>> Conversor_de_euros_a_libras(1)\n        0.86\n        >>> Conversor_de_euros_a_libras(10)\n        8.6\n        >>> Conversor_de_euros_a_libras(100)\n        86\n    '''\n    libras = euros * 0.86\n    return libras",
      "execution_count": null,
      "outputs": []
    },
    {
      "metadata": {},
      "cell_type": "markdown",
      "source": "<p><b>Paso 6</b>: Realizar diferentes pruebas de nuestra función.</p>"
    },
    {
      "metadata": {},
      "cell_type": "markdown",
      "source": "<p style=\"text-align: justify\">Comprobamos si obtenemos los mismos resultados que los obtenidos en el paso número 1.</p>"
    },
    {
      "metadata": {
        "trusted": true
      },
      "cell_type": "code",
      "source": "Conversor_de_euros_a_libras(1)",
      "execution_count": null,
      "outputs": []
    },
    {
      "metadata": {
        "trusted": true
      },
      "cell_type": "code",
      "source": "Conversor_de_euros_a_libras(10)",
      "execution_count": null,
      "outputs": []
    },
    {
      "metadata": {
        "trusted": true
      },
      "cell_type": "code",
      "source": "Conversor_de_euros_a_libras(100)",
      "execution_count": null,
      "outputs": []
    },
    {
      "metadata": {},
      "cell_type": "markdown",
      "source": "<h3 style='color: blue;'>¡PRUEBA TÚ!</h3>"
    },
    {
      "metadata": {},
      "cell_type": "markdown",
      "source": "<p style=\"text-align: justify\">Vamos a practicar la creación de funciones. Siguiendo los pasos vistos anteriormente, crear una función que permita convertir los grados centígrados en kelvin.</p>"
    },
    {
      "metadata": {},
      "cell_type": "markdown",
      "source": "<img src=\"./images/ud_funciones/celsius_to_kelvin.png\"></img>"
    },
    {
      "metadata": {
        "trusted": true
      },
      "cell_type": "code",
      "source": "",
      "execution_count": null,
      "outputs": []
    },
    {
      "metadata": {},
      "cell_type": "markdown",
      "source": "<a id=\"seccion_2_1\" name=\"seccion_2_1\"></a>\n<h2>2.1 Valor por defecto de los argumentos.</h2>"
    },
    {
      "metadata": {},
      "cell_type": "markdown",
      "source": "<p style=\"text-align: justify\">Es posible que tengamos la necesidad de definir valores por defecto de entrada a una función. <b>Python permite definir para cada argumento un valor que tendrá por defecto</b> en caso de no ser proporcionado por el usuario a la hora de llamar a la función.</p>\n"
    },
    {
      "metadata": {},
      "cell_type": "markdown",
      "source": "<img src=\"./images/ud_funciones/sintaxis_funciones_valor_defecto.png\"></img>"
    },
    {
      "metadata": {},
      "cell_type": "markdown",
      "source": "<p style=\"text-align: justify\">Como podemos observar, <b>la sintaxis es la misma. La única diferencia es que se indica junto al argumento el operador = junto al valor por defecto deseado.</b> Cabe destacar que no todos los argumentos tienen porque tener valor por defecto.</p>\n"
    },
    {
      "metadata": {},
      "cell_type": "markdown",
      "source": "<p style=\"text-align:justify;\"><b>Ejemplo:</b> Creación de funciones con argumentos que tienen valor por defecto.</p>"
    },
    {
      "metadata": {
        "trusted": true
      },
      "cell_type": "code",
      "source": "''' Función que calcula el área de un paralelogramo (base * altura) '''\n\ndef area_paralelogramo( base = 1, altura = 1):\n    print(\"El valor de la base es: \", base)\n    print(\"El valor de la altura es: \", altura)\n    print(\"El área del palalelogramo es: \", base * altura)\n\narea_paralelogramo() # al llamarla sin argumento, se toman los valores por defecto indicados.\nprint(\"\\n\")\narea_paralelogramo(5) # al llamarla con un argumento, base tomará el valor 5 y altura el valor por defecto 1.\nprint(\"\\n\")\narea_paralelogramo(2,3) # al llamarla con dos argumentos, no se utilizarán los valores por defecto.\n",
      "execution_count": null,
      "outputs": []
    },
    {
      "metadata": {},
      "cell_type": "markdown",
      "source": "<p style=\"text-align: justify\"><b>¡Cuidado!</b> Los argumentos que tienen un valor por defecto deben colocarse detrás de los que no lo tienen. En caso contrario, Python devolverá un error de sintáxis. </p>"
    },
    {
      "metadata": {
        "trusted": true
      },
      "cell_type": "code",
      "source": "''' Función que calcula el área de un paralelogramo '''\n\ndef area_paralelogramo(base = 1, altura):\n    print(\"El área del palalelogramo es: \",base*altura)\n",
      "execution_count": 1,
      "outputs": [
        {
          "output_type": "error",
          "ename": "SyntaxError",
          "evalue": "non-default argument follows default argument (<ipython-input-1-b9b0fdb95f06>, line 3)",
          "traceback": [
            "\u001b[0;36m  File \u001b[0;32m\"<ipython-input-1-b9b0fdb95f06>\"\u001b[0;36m, line \u001b[0;32m3\u001b[0m\n\u001b[0;31m    def area_paralelogramo(base = 1, altura):\u001b[0m\n\u001b[0m                          ^\u001b[0m\n\u001b[0;31mSyntaxError\u001b[0m\u001b[0;31m:\u001b[0m non-default argument follows default argument\n"
          ]
        }
      ]
    },
    {
      "metadata": {},
      "cell_type": "markdown",
      "source": "<h3 style='color: blue;'>¡PRUEBA TÚ!</h3>"
    },
    {
      "metadata": {},
      "cell_type": "markdown",
      "source": "<p style=\"text-align: justify\">Vamos a practicar las llamadas a funciones. Para ello, completar el siguiente código. </p>"
    },
    {
      "metadata": {
        "trusted": true
      },
      "cell_type": "code",
      "source": "''' Llamada a funciones con argumentos que tienen valor por defecto '''\n\n# función que resuelve ecuaciones del tipo a*x + b = 0\ndef ecuacion_primer_grado(a = 1, b = 0):\n    print(\"El valor de a es: \",a)\n    print(\"El valor de b es: \",b)\n    print(\"El valor de x es: \",-b/a)\n\n# llamar a la función ecuacion_primer_grado de tres diferentes formas\n",
      "execution_count": null,
      "outputs": []
    },
    {
      "metadata": {},
      "cell_type": "markdown",
      "source": "<a id=\"seccion_2_2\" name=\"seccion_2_2\"></a>\n<h2>2.2 Indicando el valor del argumento mediante su nombre.</h2>"
    },
    {
      "metadata": {},
      "cell_type": "markdown",
      "source": "<p style=\"text-align: justify\">Hasta ahora, cada vez que llamábamos a una función con argumentos, <b>el valor de cada uno de los argumentos se iban asignando por la posición de de éstos.</b>. Veamos un ejemplo. </p>\n"
    },
    {
      "metadata": {},
      "cell_type": "markdown",
      "source": "<p style=\"text-align:justify;\"><b>Ejemplo:</b> Asignación de valores a los argumentos de la función por posición.</p>"
    },
    {
      "metadata": {
        "trusted": true
      },
      "cell_type": "code",
      "source": "''' Función que permite saludar a un usuario '''\n\ndef saludar(saludo, nombre):\n    print(saludo + \" \" + nombre)\n\nsaludar(\"Hola\",\"Pablo\") # Hola se asigna a la variable saludo y Pablo a la variable nombre",
      "execution_count": null,
      "outputs": []
    },
    {
      "metadata": {},
      "cell_type": "markdown",
      "source": "<p style=\"text-align: justify\">Si observamos la llamada a la función anterior, vemos que la cadena de texto \"Hola\" se asigna a la variable saludo y \"Pablo\" a la variable nombre. Python permite además de realizar la asignación del valor por la posición, por el nombre de la varible. Esto permite que pasar los argumentos en el orden que deseemos. </p>\n"
    },
    {
      "metadata": {},
      "cell_type": "markdown",
      "source": "<p style=\"text-align:justify;\"><b>Ejemplo:</b> Asignación de valores a los argumentos de la función por nombre.</p>"
    },
    {
      "metadata": {
        "trusted": true
      },
      "cell_type": "code",
      "source": "''' Función que permite saludar a un usuario '''\n\ndef saludar(saludo, nombre):\n    print(saludo + \" \" + nombre)\n\nsaludar(nombre = \"Pablo\", saludo = \"Buenas\") # Hola se asigna a la variable saludo y Pablo a la variable nombre",
      "execution_count": null,
      "outputs": []
    },
    {
      "metadata": {},
      "cell_type": "markdown",
      "source": "<p style=\"text-align: justify\">Ahora podemos llamar a funciones que tenian diferentes valores por defecto en una posición que es diferente a la primera, indicando el nombre de la variable. </p>\n"
    },
    {
      "metadata": {
        "trusted": true
      },
      "cell_type": "code",
      "source": "''' Función que calcula el área de un paralelogramo '''\n\ndef area_paralelogramo( base = 1, altura = 1):\n    print(\"El valor de la base es: \", base)\n    print(\"El valor de la altura es: \", altura)\n    print(\"El área del palalelogramo es: \", base * altura)\n\narea_paralelogramo(5) \nprint(\"\\n\")\narea_paralelogramo(altura = 5) \n",
      "execution_count": null,
      "outputs": []
    },
    {
      "metadata": {},
      "cell_type": "markdown",
      "source": "<h3 style='color: blue;'>¡PRUEBA TÚ!</h3>"
    },
    {
      "metadata": {},
      "cell_type": "markdown",
      "source": "<p style=\"text-align: justify\">Vamos a practicar las llamadas a funciones indicando el nombre de los argumentos. Para ello, completar el siguiente código. </p>"
    },
    {
      "metadata": {
        "trusted": true
      },
      "cell_type": "code",
      "source": "''' llamada a funciones indicando el nombre del argumento '''\n\n# Creación de una función llamada holaMundo, sin parámetros y cuyo contenido es la salida por pantalla de la cadena de texto '¡Hola Mundo!'\ndef realizar_pedido(tipo = 'margarita', bebida = 'fanta de limón', postre = 'helado'):\n    print('Su pedido es:')\n    print(' - Su pedido es: ', tipo)\n    print(' - Su pedido es: ', bebida)\n    print(' - Postre: ', postre)\n\n# llamar a la función realizar_pedido de 3 formas diferentes, indicando el nombre de los argumentos en la llamada",
      "execution_count": null,
      "outputs": []
    },
    {
      "metadata": {},
      "cell_type": "markdown",
      "source": "<a id=\"seccion_3\" name=\"seccion_3\"></a>\n<h1>3. Librerías de funciones.</h1>"
    },
    {
      "metadata": {},
      "cell_type": "markdown",
      "source": "<p style=\"text-align: justify\"><b>Una librería es un conjunto de funciones organizadas</b>. En Python dichas librerías se denominan <b>módulos</b>. Los módulos son archivos .py que contienen código escrito en Python y que son importados para su posterior uso en diferentes programas.</p>\n"
    },
    {
      "metadata": {},
      "cell_type": "markdown",
      "source": "<p style=\"text-align: justify\">Los módulos se encuentran alojados en una carpeta. Dicha carpeta que contiene un conjunto de módulos se denomina <b>paquete</b>."
    },
    {
      "metadata": {},
      "cell_type": "markdown",
      "source": "<img src=\"./images/ud_funciones/ejemplo_paquete.png\"></img>"
    },
    {
      "metadata": {},
      "cell_type": "markdown",
      "source": "<p style=\"text-align: justify\"><b>Podemos importar un módulo mediante la sentencia import</b>. A continuación se muestra la sintaxis:"
    },
    {
      "metadata": {},
      "cell_type": "markdown",
      "source": "<img src=\"./images/ud_funciones/sentencia_import.png\"></img>"
    },
    {
      "metadata": {},
      "cell_type": "markdown",
      "source": "<a id=\"seccion_3_1\" name=\"seccion_3_1\"></a>\n<h2>3.1 El módulo Math.</h2>"
    },
    {
      "metadata": {},
      "cell_type": "markdown",
      "source": "<p style=\"text-align: justify\">El módulo math es uno de los paquetes de la librería estándar que <b>contiene constantes y métodos para calcular el valor de diversas funciones matemáticas</b>. Para importar el módulo math utilizamos la siguiente sentencia: </p>"
    },
    {
      "metadata": {
        "trusted": true
      },
      "cell_type": "code",
      "source": "import math",
      "execution_count": null,
      "outputs": []
    },
    {
      "metadata": {},
      "cell_type": "markdown",
      "source": "<p style=\"text-align: justify\">Vamos a comprobar el contenido del paquete math mediante la función dir: </p>"
    },
    {
      "metadata": {
        "trusted": true
      },
      "cell_type": "code",
      "source": "dir(math)",
      "execution_count": null,
      "outputs": []
    },
    {
      "metadata": {},
      "cell_type": "markdown",
      "source": "<p style=\"text-align: justify\">La función dir devuelve las funciones dentro de un módulo o los módulos dentro de un paquete. Podemos obtener  información de una función gracias a la funcion help.  </p>"
    },
    {
      "metadata": {
        "trusted": true
      },
      "cell_type": "code",
      "source": "help(math.sqrt)",
      "execution_count": null,
      "outputs": []
    },
    {
      "metadata": {},
      "cell_type": "markdown",
      "source": "<p style=\"text-align: justify\">A continuación se especifican las constantes y funciones más utilizados del módulo math.  </p>"
    },
    {
      "metadata": {},
      "cell_type": "markdown",
      "source": "<table style=\"font-size: 1em;\" >\n    <thead>\n      <tr>\n        <th style=\"text-align: center;\" width=\"200\">Variable / Método</th>\n        <th style=\"text-align: center;\" width=\"500\">Descripción</th>\n      </tr>\n    </thead>\n    <tbody>\n      <tr>\n        <td style=\"text-align: center;\">pi</td>\n        <td style=\"text-align: left;\">Devuelve el valor de la constante PI cuyo valor aproximado es 3.14159.</td>\n      </tr>\n      <tr>\n        <td style=\"text-align: center;\">e</td>\n        <td style=\"text-align: left;\">Devuelve el valor de la constante E cuyo valor aproximado es 2.718281.</td>\n      </tr>\n      <tr>\n        <td style=\"text-align: center;\">sqrt(x)</td>\n        <td style=\"text-align: left;\">Devuelve la raíz cuadrada de X.</td>\n      </tr>\n      <tr>\n        <td style=\"text-align: center;\">pow(x,y)</td>\n        <td style=\"text-align: left;\">Devuelve X elevado a Y. El tipo de dato devuelto es float.</td>\n      </tr>\n      <tr>\n        <td style=\"text-align: center;\">exp(x)</td>\n        <td style=\"text-align: left;\">Devuelve la constante E elevado a X. El tipo de dato devuelto es float.</td>\n      </tr>\n      <tr>\n        <td style=\"text-align: center;\">log10(x)</td>\n        <td style=\"text-align: left;\">Devuelve el logaritmo en base 10 de x.</td>\n      </tr>\n      <tr>\n        <td style=\"text-align: center;\">log(x,b)</td>\n        <td style=\"text-align: left;\">Devuelve el logaritmo en base b de x.</td>\n      </tr>\n    </tbody>\n</table>"
    },
    {
      "metadata": {},
      "cell_type": "markdown",
      "source": "<p style=\"text-align:justify;\"><b>Ejemplo:</b> Uso del módulo math. <i>Fíjese en que antes de utilizar cada elemento de la librería es necesario escribir <b>math.</b></i></p>"
    },
    {
      "metadata": {
        "trusted": true
      },
      "cell_type": "code",
      "source": "''' Uso del módulo math '''\n\nprint(\"\\n El valor de la constante E es: \", math.e)\nprint(\"\\n El valor de la constante PI es: \", math.pi)\nprint(\"\\n La raíz cuadrada de 16 es : \", math.sqrt(16))\nprint(\"\\n 2 elevado a 3 es: \", math.pow(2,3))\nprint(\"\\n El logaritmo en base 10 de 100 es: \", math.log10(100))",
      "execution_count": null,
      "outputs": []
    },
    {
      "metadata": {},
      "cell_type": "markdown",
      "source": "<h1> 4. ¿Qué hemos aprendido?.</h1>"
    },
    {
      "metadata": {},
      "cell_type": "markdown",
      "source": "<img src=\"./images/resumen.jpg\" width=\"10%\" heigth=\"10%\"></img>"
    },
    {
      "metadata": {},
      "cell_type": "markdown",
      "source": "<p style=\"text-align:justify\">Una vez terminado el cuaderno, vamos a realizar un pequeño resumen acerca de lo visto hasta ahora:</p>\n<ul>\n    <li><b>La reutilización de código es necesaria si queremos tener como resultado final un código compacto, legible y robusto.</b></li>\n    <li style=\"margin-top: 1em; text-align:justify;\">Python permite reutilizar código mediante la creación de funciones.</li>\n    <li style=\"margin-top: 1em; text-align:justify;\"><b>Para crear funciones utilizamos la sentencia def</b>. Junto a dicha sentencia se proporciona el nombre de la función, opcionalmente un conjunto de varibles denominadas argumentos de la función, la sentencias que contendrán dicha función y una sentencia return en caso de devolver algún valor.</li>\n    <li style=\"margin-top: 1em; text-align:justify;\"><b>Podemos establecer valores por defecto a los argumentos de la función</b>. Dichos valores serán tenidos en cuenta cuando no se proporcionan valores para dichas argumentos en la llamada a la función.</li>\n    <li style=\"margin-top: 1em; text-align:justify;\"><b>Podemos cambiar el orden de los parámetros en la llamada de la función</b>. Si lo hacemos asi, hay que indicar el nombre del argumento en la llamada para que se asignen correctamente los valores.</li>\n    <li style=\"margin-top: 1em; text-align:justify;\"><b>Python proporciona librerías en su código</b> con el fin de facilitar a los programadores el desarrollo de programas. <b>Para importar algún paquete o módulo proporcionado por Python o creado por nosotros, utilizamos la sentencia import.</b></li>\n    <li style=\"margin-top: 1em; text-align:justify;\">Math es uno de los módulos que contiene Python para realizar cálculos matemáticos. <b>Para ver el contenido de un módulo o paquete utilizamos la sentencia dir y para obtener información más deteallada la sentencia help<b/></li>\n</ul>"
    },
    {
      "metadata": {},
      "cell_type": "markdown",
      "source": "<h1> 5. Relación de ejercicios.</h1>"
    },
    {
      "metadata": {},
      "cell_type": "markdown",
      "source": "<img src=\"./images/ejercicios.png\" width=\"8%\" heigth=\"8%\"></img>"
    },
    {
      "metadata": {},
      "cell_type": "markdown",
      "source": "<p style=\"text-align:justify\"><span style=\"color: #4f55c7\"><u><b>EJERCICIO 1</b></u></span>:Para la siguiente función escrita en Python:</p>\n\n    def es_primo(num = 1):\n       primo = True;\n\n       for x in range(2, num // 2):\n          if num % x == 0:\n             primo = False\n    \n     return primo\n\n<p>Identificar los componentes de la función:</p>\n<ol>\n    <li>Nombre de la función.</li>\n    <li>Número de argumentos de la función.</li>\n    <li>Nombre de cada argumento y tipo de dato.</li>\n    <li>Valor por defecto de los argumentos de la función.</li>\n    <li>Valor devuelto y tipo de dato.</li>\n    <li>¿Sabrías decir cuál es la funcionalidad de esta función?.</li>\n<ol>"
    },
    {
      "metadata": {
        "trusted": true
      },
      "cell_type": "code",
      "source": "'''\n1.\n2.\n3.\n4.\n5.\n'''",
      "execution_count": null,
      "outputs": []
    },
    {
      "metadata": {},
      "cell_type": "markdown",
      "source": "<p style=\"text-align:justify\"><span style=\"color: #4f55c7\"><u><b>EJERCICIO 2</b></u></span>: ¿Sabrías decir cuál es la salida del siguiente código sin ejecutarlo?.</p>"
    },
    {
      "metadata": {
        "trusted": true
      },
      "cell_type": "code",
      "source": "'''\n\ndef menor(a,b):\n    if a <= b:\n        return a\n    else:\n        return b\n\n\nprint(menor(5,4))\nprint(menor(6,6))\nprint(menor(menor(5,2),3)))\n\n'''",
      "execution_count": null,
      "outputs": []
    },
    {
      "metadata": {},
      "cell_type": "markdown",
      "source": "<p style=\"text-align:justify\"><span style=\"color: #4f55c7\"><u><b>EJERCICIO 3</b></u></span>: ¿Sabrías decir cuál es la salida del siguiente código sin ejecutarlo?.</p>"
    },
    {
      "metadata": {
        "trusted": true
      },
      "cell_type": "code",
      "source": "'''\ndef tabla(a = 2):\n    for x in range(1,11):\n        print(x, \" por \", a , \" = \", a*x)\n\ntabla()\n'''",
      "execution_count": null,
      "outputs": []
    },
    {
      "metadata": {},
      "cell_type": "markdown",
      "source": "<p style=\"text-align:justify\"><span style=\"color: #4f55c7\"><u><b>EJERCICIO 4</b></u></span>: ¿Sabrías decir cuál es la salida del siguiente código sin ejecutarlo?.</p>"
    },
    {
      "metadata": {
        "trusted": true
      },
      "cell_type": "code",
      "source": "'''\ndef tabla(a = 2):\n    for x in range(1,11):\n        print(x, \" por \", a , \" = \", a*x)\n\ntabla(5)\n'''",
      "execution_count": null,
      "outputs": []
    },
    {
      "metadata": {},
      "cell_type": "markdown",
      "source": "<p style=\"text-align:justify\"><span style=\"color: #4f55c7\"><u><b>EJERCICIO 5</b></u></span>: ¿Sabrías decir cuál es la salida del siguiente código sin ejecutarlo?.</p>"
    },
    {
      "metadata": {
        "trusted": true
      },
      "cell_type": "code",
      "source": "'''\ndef info_division_entera(dividendo,divisor):\n    print(\"Dividendo: \",dividendo)\n    print(\"Divisor: \",divisor)\n    print(\"Cociente: \",dividendo // dividendo)\n    print(\"Resto: \",dividendo % divisor)\n\ninfo_division_entera(12, 10)\n'''",
      "execution_count": null,
      "outputs": []
    },
    {
      "metadata": {},
      "cell_type": "markdown",
      "source": "<p style=\"text-align:justify\"><span style=\"color: #4f55c7\"><u><b>EJERCICIO 6</b></u></span>: ¿Sabrías decir cuál es la salida del siguiente código sin ejecutarlo?.</p>"
    },
    {
      "metadata": {
        "trusted": true
      },
      "cell_type": "code",
      "source": "'''\n\ndef info_division_entera(dividendo,divisor):\n    print(\"Dividendo: \",dividendo)\n    print(\"Divisor: \",divisor)\n    print(\"Cociente: \",dividendo // dividendo)\n    print(\"Resto: \",dividendo % divisor)\n\ninfo_division_entera(divisor = 6, dividendo = 12)\n\n'''",
      "execution_count": null,
      "outputs": []
    },
    {
      "metadata": {},
      "cell_type": "markdown",
      "source": "<p style=\"text-align:justify\"><span style=\"color: #4f55c7\"><u><b>EJERCICIO 7</b></u></span>: Crear una función llamada es_par que reciba un parámetros de entrada (num) y muestre por pantalla el mensaje \"Es par\" en caso de ser par o \"Es impar\" en caso contrario  .</p>"
    },
    {
      "metadata": {
        "trusted": true
      },
      "cell_type": "code",
      "source": "",
      "execution_count": null,
      "outputs": []
    },
    {
      "metadata": {},
      "cell_type": "markdown",
      "source": "<p style=\"text-align:justify\"><span style=\"color: #4f55c7\"><u><b>EJERCICIO 8</b></u></span>: Crear una función para obtener la solución de una ecuación de segundo grado del tipo ax^2 + bx + c = 0. Dicha función tomará como argumento los valores a, b y c.Los valores por defecto de cada argumento sera 1. Utiliza el módulo math para realizar las operaciones que estimes oportunas.</p>"
    },
    {
      "metadata": {
        "trusted": true
      },
      "cell_type": "code",
      "source": "",
      "execution_count": null,
      "outputs": []
    }
  ],
  "metadata": {
    "kernelspec": {
      "name": "python3",
      "display_name": "Python 3",
      "language": "python"
    },
    "language_info": {
      "mimetype": "text/x-python",
      "nbconvert_exporter": "python",
      "name": "python",
      "pygments_lexer": "ipython3",
      "version": "3.5.4",
      "file_extension": ".py",
      "codemirror_mode": {
        "version": 3,
        "name": "ipython"
      }
    }
  },
  "nbformat": 4,
  "nbformat_minor": 2
}